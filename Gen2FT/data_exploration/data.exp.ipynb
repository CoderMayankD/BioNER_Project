{
 "cells": [
  {
   "cell_type": "code",
   "execution_count": 2,
   "metadata": {},
   "outputs": [],
   "source": [
    "import pandas as pd\n",
    "import json \n",
    "import re\n"
   ]
  },
  {
   "cell_type": "markdown",
   "metadata": {},
   "source": [
    "### BioC Dataset"
   ]
  },
  {
   "cell_type": "code",
   "execution_count": 129,
   "metadata": {},
   "outputs": [],
   "source": [
    "training_file=r\"G:\\GitClone\\BioNER_Project\\Gen2FT\\new _dataset\\BioC\\Train.BioC.JSON\"\n",
    "with open(training_file, 'r') as f:\n",
    "    data=json.loads(f.read())"
   ]
  },
  {
   "cell_type": "code",
   "execution_count": 62,
   "metadata": {},
   "outputs": [
    {
     "data": {
      "text/plain": [
       "dict_keys(['offset', 'text', 'annotations'])"
      ]
     },
     "execution_count": 62,
     "metadata": {},
     "output_type": "execute_result"
    }
   ],
   "source": [
    "data_in=data['documents'][0]['passages'][0]\n",
    "data_in.keys()"
   ]
  },
  {
   "cell_type": "code",
   "execution_count": 63,
   "metadata": {},
   "outputs": [
    {
     "name": "stdout",
     "output_type": "stream",
     "text": [
      "Hepatocyte nuclear factor-6: associations between genetic variability and type II diabetes and between genetic variability and estimates of insulin secretion.\n",
      "Word Count: 20\n"
     ]
    }
   ],
   "source": [
    "print(data_in['text'])\n",
    "print(\"Word Count:\", len(data_in['text'].split()))"
   ]
  },
  {
   "cell_type": "code",
   "execution_count": 70,
   "metadata": {},
   "outputs": [
    {
     "name": "stdout",
     "output_type": "stream",
     "text": [
      "1 text:  Hepatocyte nuclear factor-6: associations between genetic variability and type II diabetes and between genetic variability and estimates of insulin secretion. \n",
      "\n",
      " Unique tags:  {'DiseaseOrPhenotypicFeature', 'GeneOrGeneProduct'} \n",
      "\n",
      " NER TAGS:  ['GeneOrGeneProduct: Hepatocyte nuclear factor-6', 'DiseaseOrPhenotypicFeature: type II diabetes', 'GeneOrGeneProduct: insulin'] \n",
      "\n",
      "\n",
      "\n",
      "2 text:  The transcription factor hepatocyte nuclear factor (HNF)-6 is an upstream regulator of several genes involved in the pathogenesis of maturity-onset diabetes of the young. We therefore tested the hypothesis that variability in the HNF-6 gene is associated with subsets of Type II (non-insulin-dependent) diabetes mellitus and estimates of insulin secretion in glucose tolerant subjects.   We cloned the coding region as well as the intron-exon boundaries of the HNF-6 gene. We then examined them on genomic DNA in six MODY probands without mutations in the MODY1, MODY3 and MODY4 genes and in 54 patients with late-onset Type II diabetes by combined single strand conformational polymorphism-heteroduplex analysis followed by direct sequencing of identified variants. An identified missense variant was examined in association studies and genotype-phenotype studies.   We identified two silent and one missense (Pro75 Ala) variant. In an association study the allelic frequency of the Pro75Ala polymorphism was 3.2% (95% confidence interval, 1.9-4.5) in 330 patients with Type II diabetes mellitus compared with 4.2% (2.4-6.0) in 238 age-matched glucose tolerant control subjects. Moreover, in studies of 238 middle-aged glucose tolerant subjects, of 226 glucose tolerant offspring of Type II diabetic patients and of 367 young healthy subjects, the carriers of the polymorphism did not differ from non-carriers in glucose induced serum insulin or C-peptide responses.   Mutations in the coding region of the HNF-6 gene are not associated with Type II diabetes or with changes in insulin responses to glucose among the Caucasians examined. \n",
      "\n",
      " Unique tags:  {'ChemicalEntity', 'DiseaseOrPhenotypicFeature', 'OrganismTaxon', 'GeneOrGeneProduct', 'SequenceVariant'} \n",
      "\n",
      " NER TAGS:  ['GeneOrGeneProduct: hepatocyte nuclear factor (HNF)-6', 'DiseaseOrPhenotypicFeature: maturity-onset diabetes', 'GeneOrGeneProduct: HNF-6', 'DiseaseOrPhenotypicFeature: Type II (non-insulin-dependent) diabetes mellitus', 'GeneOrGeneProduct: insulin', 'ChemicalEntity: glucose', 'GeneOrGeneProduct: HNF-6', 'GeneOrGeneProduct: MODY', 'GeneOrGeneProduct: MODY1', 'GeneOrGeneProduct: MODY3', 'GeneOrGeneProduct: MODY4', 'OrganismTaxon: patients', 'DiseaseOrPhenotypicFeature: Type II diabetes', 'SequenceVariant: Pro75 Ala', 'SequenceVariant: Pro75Ala', 'OrganismTaxon: patients', 'DiseaseOrPhenotypicFeature: Type II diabetes mellitus', 'ChemicalEntity: glucose', 'ChemicalEntity: glucose', 'ChemicalEntity: glucose', 'DiseaseOrPhenotypicFeature: Type II diabetic', 'OrganismTaxon: patients', 'ChemicalEntity: glucose', 'GeneOrGeneProduct: insulin', 'GeneOrGeneProduct: C-peptide', 'GeneOrGeneProduct: HNF-6', 'DiseaseOrPhenotypicFeature: Type II diabetes', 'GeneOrGeneProduct: insulin', 'ChemicalEntity: glucose'] \n",
      "\n",
      "\n",
      "\n"
     ]
    }
   ],
   "source": [
    "\n",
    "for _,d in enumerate(data['documents'][0]['passages']):\n",
    "    data_in=d\n",
    "    \n",
    "    entity=[]\n",
    "    ner_tags=[]\n",
    "    tags=set()\n",
    "\n",
    "    for item in data_in['annotations']:\n",
    "        tags.add(item['infons']['type'])\n",
    "        ner_tags.append(item['infons']['type']+\": \"+item['text'])\n",
    "        entity.append(item['text'])\n",
    "        \n",
    "    print(f\"{_+1} text: \",data_in['text'],\"\\n\\n\",\"Unique tags: \",tags,\"\\n\\n\",\"NER TAGS: \",ner_tags,\"\\n\\n\\n\")"
   ]
  },
  {
   "cell_type": "markdown",
   "metadata": {},
   "source": [
    "Not worthy to be used. Lets move to next dataset. "
   ]
  },
  {
   "cell_type": "markdown",
   "metadata": {},
   "source": [
    "### ChemNER"
   ]
  },
  {
   "cell_type": "code",
   "execution_count": 80,
   "metadata": {},
   "outputs": [
    {
     "data": {
      "text/html": [
       "<div>\n",
       "<style scoped>\n",
       "    .dataframe tbody tr th:only-of-type {\n",
       "        vertical-align: middle;\n",
       "    }\n",
       "\n",
       "    .dataframe tbody tr th {\n",
       "        vertical-align: top;\n",
       "    }\n",
       "\n",
       "    .dataframe thead th {\n",
       "        text-align: right;\n",
       "    }\n",
       "</style>\n",
       "<table border=\"1\" class=\"dataframe\">\n",
       "  <thead>\n",
       "    <tr style=\"text-align: right;\">\n",
       "      <th></th>\n",
       "      <th>Sentence_Index</th>\n",
       "      <th>Token</th>\n",
       "      <th>Tag</th>\n",
       "    </tr>\n",
       "  </thead>\n",
       "  <tbody>\n",
       "    <tr>\n",
       "      <th>0</th>\n",
       "      <td>0</td>\n",
       "      <td>We</td>\n",
       "      <td>O</td>\n",
       "    </tr>\n",
       "    <tr>\n",
       "      <th>1</th>\n",
       "      <td>0</td>\n",
       "      <td>implemented</td>\n",
       "      <td>O</td>\n",
       "    </tr>\n",
       "    <tr>\n",
       "      <th>2</th>\n",
       "      <td>0</td>\n",
       "      <td>a</td>\n",
       "      <td>O</td>\n",
       "    </tr>\n",
       "    <tr>\n",
       "      <th>3</th>\n",
       "      <td>0</td>\n",
       "      <td>two</td>\n",
       "      <td>O</td>\n",
       "    </tr>\n",
       "    <tr>\n",
       "      <th>4</th>\n",
       "      <td>0</td>\n",
       "      <td>-</td>\n",
       "      <td>O</td>\n",
       "    </tr>\n",
       "  </tbody>\n",
       "</table>\n",
       "</div>"
      ],
      "text/plain": [
       "   Sentence_Index        Token Tag\n",
       "0               0           We   O\n",
       "1               0  implemented   O\n",
       "2               0            a   O\n",
       "3               0          two   O\n",
       "4               0            -   O"
      ]
     },
     "execution_count": 80,
     "metadata": {},
     "output_type": "execute_result"
    }
   ],
   "source": [
    "train_file=r\"G:\\GitClone\\BioNER_Project\\Gen2FT\\new _dataset\\ChemNER\\training.csv\"\n",
    "df=pd.read_csv(train_file)\n",
    "df.drop(\"PMID_Type\", axis=1, inplace=True)\n",
    "df.head()"
   ]
  },
  {
   "cell_type": "code",
   "execution_count": 128,
   "metadata": {},
   "outputs": [
    {
     "name": "stdout",
     "output_type": "stream",
     "text": [
      "<class 'pandas.core.frame.DataFrame'>\n",
      "RangeIndex: 667075 entries, 0 to 667074\n",
      "Data columns (total 3 columns):\n",
      " #   Column          Non-Null Count   Dtype \n",
      "---  ------          --------------   ----- \n",
      " 0   Sentence_Index  667075 non-null  int64 \n",
      " 1   Token           667044 non-null  object\n",
      " 2   Tag             667075 non-null  object\n",
      "dtypes: int64(1), object(2)\n",
      "memory usage: 15.3+ MB\n"
     ]
    },
    {
     "data": {
      "text/plain": [
       "(None,\n",
       " array(['O', 'B-TRIVIAL', 'B-FAMILY', 'B-SYSTEMATIC', 'B-FORMULA',\n",
       "        'I-SYSTEMATIC', 'I-FAMILY', 'B-ABBREVIATION', 'B-MULTIPLE',\n",
       "        'I-MULTIPLE', 'I-TRIVIAL', 'B-IDENTIFIER', 'I-FORMULA',\n",
       "        'I-ABBREVIATION', 'B-NO CLASS', 'I-IDENTIFIER', 'I-NO CLASS'],\n",
       "       dtype=object))"
      ]
     },
     "execution_count": 128,
     "metadata": {},
     "output_type": "execute_result"
    }
   ],
   "source": [
    "df.info(), df.Tag.unique()"
   ]
  },
  {
   "cell_type": "code",
   "execution_count": 111,
   "metadata": {},
   "outputs": [
    {
     "data": {
      "text/html": [
       "<div>\n",
       "<style scoped>\n",
       "    .dataframe tbody tr th:only-of-type {\n",
       "        vertical-align: middle;\n",
       "    }\n",
       "\n",
       "    .dataframe tbody tr th {\n",
       "        vertical-align: top;\n",
       "    }\n",
       "\n",
       "    .dataframe thead th {\n",
       "        text-align: right;\n",
       "    }\n",
       "</style>\n",
       "<table border=\"1\" class=\"dataframe\">\n",
       "  <thead>\n",
       "    <tr style=\"text-align: right;\">\n",
       "      <th></th>\n",
       "      <th>Sentence_Index</th>\n",
       "      <th>Token</th>\n",
       "      <th>Tag</th>\n",
       "    </tr>\n",
       "  </thead>\n",
       "  <tbody>\n",
       "    <tr>\n",
       "      <th>162</th>\n",
       "      <td>5</td>\n",
       "      <td>haloperidol</td>\n",
       "      <td>B-TRIVIAL</td>\n",
       "    </tr>\n",
       "    <tr>\n",
       "      <th>641</th>\n",
       "      <td>5</td>\n",
       "      <td>glutathione</td>\n",
       "      <td>B-TRIVIAL</td>\n",
       "    </tr>\n",
       "    <tr>\n",
       "      <th>646</th>\n",
       "      <td>5</td>\n",
       "      <td>superoxide</td>\n",
       "      <td>B-TRIVIAL</td>\n",
       "    </tr>\n",
       "    <tr>\n",
       "      <th>649</th>\n",
       "      <td>5</td>\n",
       "      <td>glutathione</td>\n",
       "      <td>B-TRIVIAL</td>\n",
       "    </tr>\n",
       "    <tr>\n",
       "      <th>656</th>\n",
       "      <td>5</td>\n",
       "      <td>glutathione</td>\n",
       "      <td>B-TRIVIAL</td>\n",
       "    </tr>\n",
       "    <tr>\n",
       "      <th>...</th>\n",
       "      <td>...</td>\n",
       "      <td>...</td>\n",
       "      <td>...</td>\n",
       "    </tr>\n",
       "    <tr>\n",
       "      <th>663943</th>\n",
       "      <td>5</td>\n",
       "      <td>S33084</td>\n",
       "      <td>B-IDENTIFIER</td>\n",
       "    </tr>\n",
       "    <tr>\n",
       "      <th>664295</th>\n",
       "      <td>5</td>\n",
       "      <td>oxytocin</td>\n",
       "      <td>B-TRIVIAL</td>\n",
       "    </tr>\n",
       "    <tr>\n",
       "      <th>664310</th>\n",
       "      <td>5</td>\n",
       "      <td>oxytocin</td>\n",
       "      <td>B-TRIVIAL</td>\n",
       "    </tr>\n",
       "    <tr>\n",
       "      <th>666768</th>\n",
       "      <td>5</td>\n",
       "      <td>oestrogen</td>\n",
       "      <td>B-FAMILY</td>\n",
       "    </tr>\n",
       "    <tr>\n",
       "      <th>666781</th>\n",
       "      <td>5</td>\n",
       "      <td>oestrogen</td>\n",
       "      <td>B-FAMILY</td>\n",
       "    </tr>\n",
       "  </tbody>\n",
       "</table>\n",
       "<p>2862 rows × 3 columns</p>\n",
       "</div>"
      ],
      "text/plain": [
       "        Sentence_Index        Token           Tag\n",
       "162                  5  haloperidol     B-TRIVIAL\n",
       "641                  5  glutathione     B-TRIVIAL\n",
       "646                  5   superoxide     B-TRIVIAL\n",
       "649                  5  glutathione     B-TRIVIAL\n",
       "656                  5  glutathione     B-TRIVIAL\n",
       "...                ...          ...           ...\n",
       "663943               5       S33084  B-IDENTIFIER\n",
       "664295               5     oxytocin     B-TRIVIAL\n",
       "664310               5     oxytocin     B-TRIVIAL\n",
       "666768               5    oestrogen      B-FAMILY\n",
       "666781               5    oestrogen      B-FAMILY\n",
       "\n",
       "[2862 rows x 3 columns]"
      ]
     },
     "execution_count": 111,
     "metadata": {},
     "output_type": "execute_result"
    }
   ],
   "source": [
    "df[(df['Sentence_Index']==5) & (df['Tag']!=\"O\") ]"
   ]
  },
  {
   "cell_type": "markdown",
   "metadata": {},
   "source": [
    "This data is too good but still not suitable for our purpose."
   ]
  },
  {
   "cell_type": "markdown",
   "metadata": {},
   "source": [
    "### NCBI Corpus dataset"
   ]
  },
  {
   "cell_type": "code",
   "execution_count": 224,
   "metadata": {},
   "outputs": [],
   "source": [
    "def splitcorpus(file):\n",
    "    list_=[]\n",
    "    with open(file, \"+r\") as f:\n",
    "        temp=[]\n",
    "        for line in f.readlines():\n",
    "            if line.strip()!=\"\":\n",
    "                temp.append(line.strip())\n",
    "            else:\n",
    "                if temp!=[]:\n",
    "                    list_.append(temp) \n",
    "                    temp=[]\n",
    "                continue\n",
    "    return {\"data\":list_}\n",
    "# Example usage:\n",
    "file_path = r'G:\\GitClone\\BioNER_Project\\Gen2FT\\NCBI Corpus\\NCBItrainset_corpus.txt'\n",
    "ner_data = splitcorpus(file_path)\n",
    "\n",
    "# Output the result to a JSON file\n",
    "with open(r\"G:\\GitClone\\BioNER_Project\\Gen2FT\\NCBI Corpus\\NCBItrainset_corpus.json\", \"w\") as f:\n",
    "    json.dump(ner_data, f, indent=4)"
   ]
  },
  {
   "cell_type": "code",
   "execution_count": 228,
   "metadata": {},
   "outputs": [],
   "source": [
    "ner_tags=[]\n",
    "unique_tags=set()\n",
    "for _ in range(len(ner_data['data'])):\n",
    "    t=ner_data['data'][_][0].split(\"|t|\")[-1]\n",
    "    a=ner_data['data'][_][1].split(\"|a|\")[-1]\n",
    "    text=t+\" \"+a\n",
    "    temp=[]\n",
    "    temp2=[]\n",
    "    for i in ner_data['data'][_][2:]:\n",
    "        tag=i.split('\\t')[4].strip()\n",
    "        entity=i.split('\\t')[3].strip()\n",
    "        temp.append(f'''\"{tag}\":\"{entity}\"''')\n",
    "        if tag==\"SpecificDisease\":\n",
    "            temp2.append(f'''\"B-SPDIS\":\"{entity}\"''')\n",
    "        elif tag==\"DiseaseClass\":\n",
    "            temp2.append(f'''\"B-DIS\":\"{entity}\"''')\n",
    "        elif tag==\"Modifier\":\n",
    "            temp2.append(f'''\"I-MoDIS\":\"{entity}\"''')\n",
    "        elif tag==\"CompositeMention\":\n",
    "            temp2.append(f'''\"I-ComDIS\":\"{entity}\"''')\n",
    "        unique_tags.add(tag)\n",
    "    ner_tags.append({\"text\":text,\"ner_tags\":list(set(temp)),\"simple_tags\":list(set(temp2))})\n",
    "    \n",
    "with open(r\"G:\\GitClone\\BioNER_Project\\Gen2FT\\NCBI Corpus\\NCBI_Dis_Dataset.json\", \"w\") as f:\n",
    "    json.dump(ner_tags, f)"
   ]
  },
  {
   "cell_type": "code",
   "execution_count": 221,
   "metadata": {},
   "outputs": [
    {
     "data": {
      "text/plain": [
       "{'CompositeMention', 'DiseaseClass', 'Modifier', 'SpecificDisease'}"
      ]
     },
     "execution_count": 221,
     "metadata": {},
     "output_type": "execute_result"
    }
   ],
   "source": [
    "unique_tags"
   ]
  },
  {
   "cell_type": "code",
   "execution_count": null,
   "metadata": {},
   "outputs": [],
   "source": []
  }
 ],
 "metadata": {
  "kernelspec": {
   "display_name": "work_env_trade",
   "language": "python",
   "name": "python3"
  },
  "language_info": {
   "codemirror_mode": {
    "name": "ipython",
    "version": 3
   },
   "file_extension": ".py",
   "mimetype": "text/x-python",
   "name": "python",
   "nbconvert_exporter": "python",
   "pygments_lexer": "ipython3",
   "version": "3.10.6"
  }
 },
 "nbformat": 4,
 "nbformat_minor": 2
}
